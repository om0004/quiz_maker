{
 "cells": [
  {
   "cell_type": "code",
   "execution_count": 12,
   "metadata": {},
   "outputs": [],
   "source": [
    "import random\n",
    "capital= {'Alabama': 'Montgomery', 'Alaska': 'Juneau', 'Arizona': 'Phoenix', 'Arkansas': 'Little Rock', 'California': 'Sacramento', 'Colorado': 'Denver',\n",
    " 'Connecticut': 'Hartford', 'Delaware': 'Dover', 'Florida': 'Tallahassee', 'Georgia': 'Atlanta', 'Hawaii': 'Honolulu', 'Idaho': 'Boise',\n",
    " 'Illinois': 'Springfield', 'Indiana': 'Indianapolis', 'Iowa': 'Des Moines', 'Kansas': 'Topeka', 'Kentucky': 'Frankfort', 'Louisiana': 'Baton Rouge', \n",
    " 'Maine': 'Augusta', 'Maryland': 'Annapolis', 'Massachusetts': 'Boston', 'Michigan': 'Lansing', 'Minnesota': 'Saint Paul', 'Mississippi': 'Jackson',\n",
    " 'Missouri': 'Jefferson City', 'Montana': 'Helena', 'Nebraska': 'Lincoln', 'Nevada': 'Carson City', 'New Hampshire': 'Concord', 'New Jersey': 'Trenton', \n",
    " 'New Mexico': 'Santa Fe', 'New York': 'Albany', 'North Carolina': 'Raleigh', 'North Dakota': 'Bismarck', 'Ohio': 'Columbus', 'Oklahoma': 'Oklahoma City',\n",
    " 'Oregon': 'Salem', 'Pennsylvania': 'Harrisburg', 'Rhode Island': 'Providence', 'South Carolina': 'Columbia', 'South Dakota': 'Pierre',\n",
    " 'Tennessee': 'Nashville', 'Texas': 'Austin', 'Utah': 'Salt Lake City', 'Vermont': 'Montpelier', 'Virginia': 'Richmond',\n",
    " 'Washington': 'Olympia', 'West Virginia': 'Charleston', 'Wisconsin': 'Madison', 'Wyoming': 'Cheyenne'}\n",
    "questions=list(capital.keys())\n",
    "options=list(capital.values())\n",
    "option=[]\n",
    "k=1\n",
    "for i in range(1,3):\n",
    "    file=open('C:\\\\Users\\\\omver\\\\Desktop\\\\pyth-revise\\\\paper'+str(i)+\".txt\",'w')\n",
    "    file2=open('C:\\\\Users\\\\omver\\\\Desktop\\\\pyth-revise\\\\answer'+str(i)+\".txt\",'w')\n",
    "    random.shuffle(questions)\n",
    "    for j in range(0,50):\n",
    "        q=questions[j]\n",
    "        file.write(str(k)+\")\"+\"what is the capital of \"+q+\"\\n\")\n",
    "        answer=capital[q]\n",
    "        random.shuffle(options)\n",
    "        for z in options:\n",
    "            if z!=answer and len(option)<3:\n",
    "                option.append(z)\n",
    "        option.append(answer)\n",
    "        random.shuffle(option)\n",
    "        for z in option:\n",
    "            file.write(z+\"\\n\")\n",
    "        option.clear()    \n",
    "        file2.write(str(k)+\") \"+answer+\"\\n\")\n",
    "        k=k+1\n",
    "    file.close()\n",
    "    file2.close()                \n",
    "        \n",
    "        \n",
    "    \n",
    "    \n",
    "\n",
    "\n"
   ]
  }
 ],
 "metadata": {
  "kernelspec": {
   "display_name": "Python 3",
   "language": "python",
   "name": "python3"
  },
  "language_info": {
   "codemirror_mode": {
    "name": "ipython",
    "version": 3
   },
   "file_extension": ".py",
   "mimetype": "text/x-python",
   "name": "python",
   "nbconvert_exporter": "python",
   "pygments_lexer": "ipython3",
   "version": "3.9.0"
  }
 },
 "nbformat": 4,
 "nbformat_minor": 4
}
